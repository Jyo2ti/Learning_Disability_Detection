{
 "cells": [
  {
   "cell_type": "code",
   "execution_count": 1,
   "metadata": {},
   "outputs": [],
   "source": [
    "import glob\n",
    "import pandas as pd\n",
    "import numpy as np"
   ]
  },
  {
   "cell_type": "code",
   "execution_count": 2,
   "metadata": {},
   "outputs": [],
   "source": [
    "path = r'C:\\Users\\hp\\Documents\\AlgoAsylum\\Recording Data'\n",
    "subject_path = glob.glob(path + \"\\*\")"
   ]
  },
  {
   "cell_type": "code",
   "execution_count": null,
   "metadata": {},
   "outputs": [],
   "source": []
  },
  {
   "cell_type": "code",
   "execution_count": 3,
   "metadata": {},
   "outputs": [],
   "source": [
    "Dy_1 = []\n",
    "Dy_2 = []\n",
    "Cntrl_3 = []\n",
    "Cntrl_4 = []\n",
    "for subject in subject_path:\n",
    "    if subject.endswith('1'):\n",
    "        Dy_1.append(subject)\n",
    "    elif subject.endswith('2'):\n",
    "        Dy_2.append(subject)\n",
    "    elif subject.endswith('3'):\n",
    "        Cntrl_3.append(subject)\n",
    "    elif subject.endswith('4'):\n",
    "        Cntrl_4.append(subject)"
   ]
  },
  {
   "cell_type": "code",
   "execution_count": 25,
   "metadata": {},
   "outputs": [
    {
     "name": "stdout",
     "output_type": "stream",
     "text": [
      "No files or folders found in the directory: C:\\Users\\hp\\Documents\\AlgoAsylum\\Recording Data\n"
     ]
    }
   ],
   "source": [
    "import glob\n",
    "import os\n",
    "\n",
    "# Raw path to the base directory\n",
    "path = r'C:\\Users\\hp\\Documents\\AlgoAsylum\\Recording Data'\n",
    "\n",
    "# Use glob to get all files and folders in the directory\n",
    "subject_path = glob.glob(os.path.join(path, '*'))\n",
    "\n",
    "# Check if any files/folders were found\n",
    "if subject_path:\n",
    "    # If there are files/folders, proceed with further actions\n",
    "    for p in subject_path:\n",
    "        print(p)  # You can replace this with further processing\n",
    "\n",
    "else:\n",
    "    print(f\"No files or folders found in the directory: {path}\")\n"
   ]
  },
  {
   "cell_type": "code",
   "execution_count": 18,
   "metadata": {},
   "outputs": [
    {
     "data": {
      "text/plain": [
       "0"
      ]
     },
     "execution_count": 18,
     "metadata": {},
     "output_type": "execute_result"
    }
   ],
   "source": [
    "len(Dyslexic_names)"
   ]
  },
  {
   "cell_type": "code",
   "execution_count": 19,
   "metadata": {},
   "outputs": [
    {
     "data": {
      "text/plain": [
       "[]"
      ]
     },
     "execution_count": 19,
     "metadata": {},
     "output_type": "execute_result"
    }
   ],
   "source": [
    "Dyslexic_names"
   ]
  },
  {
   "cell_type": "code",
   "execution_count": 20,
   "metadata": {},
   "outputs": [
    {
     "ename": "IndexError",
     "evalue": "list index out of range",
     "output_type": "error",
     "traceback": [
      "\u001b[1;31m---------------------------------------------------------------------------\u001b[0m",
      "\u001b[1;31mIndexError\u001b[0m                                Traceback (most recent call last)",
      "Cell \u001b[1;32mIn[20], line 1\u001b[0m\n\u001b[1;32m----> 1\u001b[0m \u001b[43mDyslexic_files\u001b[49m\u001b[43m[\u001b[49m\u001b[38;5;241;43m1\u001b[39;49m\u001b[43m]\u001b[49m[\u001b[38;5;241m0\u001b[39m]\u001b[38;5;241m.\u001b[39msplit(\u001b[38;5;124m'\u001b[39m\u001b[38;5;130;01m\\\\\u001b[39;00m\u001b[38;5;124m'\u001b[39m)\n",
      "\u001b[1;31mIndexError\u001b[0m: list index out of range"
     ]
    }
   ],
   "source": [
    "Dyslexic_files[1][0].split('\\\\')"
   ]
  },
  {
   "cell_type": "code",
   "execution_count": 21,
   "metadata": {},
   "outputs": [],
   "source": [
    "for i in range(len(Dyslexic_files)):\n",
    "    stripped = []\n",
    "    ar = []\n",
    "    \n",
    "    with open(Dyslexic_files[i][0], 'r') as in_file:\n",
    "        for line in in_file:\n",
    "            temp = line.strip().replace(',','.')\n",
    "            stripped.append(temp)\n",
    "    \n",
    "    del stripped[0]\n",
    "    for s in stripped:\n",
    "        s = s.replace('\\t',',')\n",
    "        s = s.split(',')\n",
    "        ar.append(map(float,s))\n",
    "        \n",
    "    del ar[len(ar)-1]\n",
    "    df = pd.DataFrame(ar,columns = ['T', 'LX','LY','RX','RY'])\n",
    "    name = Dyslexic_names[i]+'.csv'\n",
    "    df.to_csv('Data//Dyslexic//'+name)"
   ]
  },
  {
   "cell_type": "code",
   "execution_count": 22,
   "metadata": {},
   "outputs": [
    {
     "ename": "IndexError",
     "evalue": "list index out of range",
     "output_type": "error",
     "traceback": [
      "\u001b[1;31m---------------------------------------------------------------------------\u001b[0m",
      "\u001b[1;31mIndexError\u001b[0m                                Traceback (most recent call last)",
      "Cell \u001b[1;32mIn[22], line 1\u001b[0m\n\u001b[1;32m----> 1\u001b[0m \u001b[43mDyslexic_files\u001b[49m\u001b[43m[\u001b[49m\u001b[38;5;241;43m0\u001b[39;49m\u001b[43m]\u001b[49m\n",
      "\u001b[1;31mIndexError\u001b[0m: list index out of range"
     ]
    }
   ],
   "source": [
    "Dyslexic_files[0]"
   ]
  },
  {
   "cell_type": "code",
   "execution_count": 23,
   "metadata": {},
   "outputs": [],
   "source": [
    "Cntrl = Cntrl_3+Cntrl_4\n",
    "\n",
    "Cntrl = [subject+'\\*' for subject in Cntrl]\n",
    "\n",
    "Cntrl_files = []\n",
    "for path in Cntrl:\n",
    "    Cntrl_files.append(glob.glob(path))\n",
    "\n",
    "Cntrl_names = []\n",
    "for d in Cntrl_files:\n",
    "    Cntrl_names.append(d[0].split('\\\\')[6])"
   ]
  },
  {
   "cell_type": "code",
   "execution_count": 24,
   "metadata": {},
   "outputs": [
    {
     "data": {
      "text/plain": [
       "0"
      ]
     },
     "execution_count": 24,
     "metadata": {},
     "output_type": "execute_result"
    }
   ],
   "source": [
    "len(Cntrl_names)"
   ]
  },
  {
   "cell_type": "code",
   "execution_count": 16,
   "metadata": {},
   "outputs": [],
   "source": [
    "for i in range(len(Cntrl_files)):\n",
    "    stripped = []\n",
    "    ar = []\n",
    "    \n",
    "    with open(Cntrl_files[i][0], 'r') as in_file:\n",
    "        for line in in_file:\n",
    "            temp = line.strip().replace(',','.')\n",
    "            stripped.append(temp)\n",
    "    \n",
    "    del stripped[0]\n",
    "    for s in stripped:\n",
    "        s = s.replace('\\t',',')\n",
    "        s = s.split(',')\n",
    "        ar.append(map(float,s))\n",
    "        \n",
    "    del ar[len(ar)-1]\n",
    "    df = pd.DataFrame(ar,columns = ['T', 'LX','LY','RX','RY'])\n",
    "    name = Cntrl_names[i]+'.csv'\n",
    "    df.to_csv('Data//Control//'+name)"
   ]
  },
  {
   "cell_type": "code",
   "execution_count": null,
   "metadata": {},
   "outputs": [],
   "source": []
  },
  {
   "cell_type": "code",
   "execution_count": null,
   "metadata": {},
   "outputs": [],
   "source": []
  },
  {
   "cell_type": "code",
   "execution_count": null,
   "metadata": {},
   "outputs": [],
   "source": []
  },
  {
   "cell_type": "code",
   "execution_count": null,
   "metadata": {},
   "outputs": [],
   "source": []
  }
 ],
 "metadata": {
  "kernelspec": {
   "display_name": "Python 3 (ipykernel)",
   "language": "python",
   "name": "python3"
  },
  "language_info": {
   "codemirror_mode": {
    "name": "ipython",
    "version": 3
   },
   "file_extension": ".py",
   "mimetype": "text/x-python",
   "name": "python",
   "nbconvert_exporter": "python",
   "pygments_lexer": "ipython3",
   "version": "3.9.18"
  }
 },
 "nbformat": 4,
 "nbformat_minor": 4
}
